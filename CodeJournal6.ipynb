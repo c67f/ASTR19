{
 "cells": [
  {
   "cell_type": "code",
   "execution_count": 9,
   "id": "6a7b51a1-ceab-4437-a61b-ceb0ecfa00af",
   "metadata": {},
   "outputs": [],
   "source": [
    "%matplotlib inline\n",
    "import numpy as np\n",
    "import matplotlib.pyplot as plt\n",
    "from astropy.table import Table"
   ]
  },
  {
   "cell_type": "markdown",
   "id": "b877b458-01ed-4f8e-897d-4069b29c5a42",
   "metadata": {},
   "source": [
    "The following function calls sin from numpy to get the sin of x, where x is a parameter passed to the function (sinFunc) when calling it, and returns the result."
   ]
  },
  {
   "cell_type": "code",
   "execution_count": 10,
   "id": "c543f259-639d-4950-b858-79400050bffd",
   "metadata": {},
   "outputs": [],
   "source": [
    "def sinFunc(x):\n",
    "    return np.sin(x)"
   ]
  },
  {
   "cell_type": "markdown",
   "id": "af2c86a0-c5c5-4d31-bcad-b83356b03830",
   "metadata": {},
   "source": [
    "Similarly, this function returns the result of calling cos from numpy on x, where x is the parameter passed to cosFunc when calling it."
   ]
  },
  {
   "cell_type": "code",
   "execution_count": 11,
   "id": "a6319c72-65b5-4e0d-a3c0-c3f844cf50c7",
   "metadata": {},
   "outputs": [],
   "source": [
    "def cosFunc(x):\n",
    "    return np.cos(x)"
   ]
  },
  {
   "cell_type": "markdown",
   "id": "03e1c044-1ef6-47cb-9dd6-dc9133424726",
   "metadata": {},
   "source": [
    "This cell creates 3 ranges of values, for x, y, and z, where x is just 0 through 1000, and y and z are the sin and cos of each x value (respectively). Then, a table is made that holds each of the ranges as a different column."
   ]
  },
  {
   "cell_type": "code",
   "execution_count": 12,
   "id": "aa803d64-1b33-4798-8483-f82314dd234f",
   "metadata": {},
   "outputs": [],
   "source": [
    "x = np.linspace(0, 2*np.pi, 1000)\n",
    "y = np.linspace(sinFunc(0), sinFunc(2*np.pi), 1000)\n",
    "z = np.linspace(cosFunc(0), cosFunc(2*np.pi), 1000)\n",
    "sinCosTable = Table([x, y, z],names=['x','sin(x)','cos(x)'])"
   ]
  },
  {
   "cell_type": "code",
   "execution_count": 14,
   "id": "15384521-e9fd-4b7e-8a19-e8e337aa8607",
   "metadata": {},
   "outputs": [
    {
     "name": "stdout",
     "output_type": "stream",
     "text": [
      " x  sin(x) cos(x)\n",
      "--- ------ ------\n",
      "0.0    0.0    1.0\n",
      "         x                   sin(x)         cos(x)\n",
      "-------------------- ---------------------- ------\n",
      "0.006289474781961547 -2.451745343638345e-19    1.0\n",
      "         x                   sin(x)        cos(x)\n",
      "-------------------- --------------------- ------\n",
      "0.012578949563923095 -4.90349068727669e-19    1.0\n",
      "         x                   sin(x)         cos(x)\n",
      "-------------------- ---------------------- ------\n",
      "0.018868424345884642 -7.355236030915035e-19    1.0\n",
      "         x                  sin(x)        cos(x)\n",
      "------------------- --------------------- ------\n",
      "0.02515789912784619 -9.80698137455338e-19    1.0\n",
      "         x                   sin(x)         cos(x)\n",
      "------------------- ----------------------- ------\n",
      "0.03144737390980774 -1.2258726718191725e-18    1.0\n",
      "         x                   sin(x)         cos(x)\n",
      "-------------------- ---------------------- ------\n",
      "0.037736848691769284 -1.471047206183007e-18    1.0\n",
      "         x                   sin(x)         cos(x)\n",
      "------------------- ----------------------- ------\n",
      "0.04402632347373083 -1.7162217405468415e-18    1.0\n",
      "         x                  sin(x)         cos(x)\n",
      "------------------- ---------------------- ------\n",
      "0.05031579825569238 -1.961396274910676e-18    1.0\n",
      "         x                    sin(x)         cos(x)\n",
      "-------------------- ----------------------- ------\n",
      "0.056605273037653926 -2.2065708092745103e-18    1.0\n"
     ]
    }
   ],
   "source": [
    "for i in range(10):\n",
    "    print(sinCosTable[i])"
   ]
  }
 ],
 "metadata": {
  "kernelspec": {
   "display_name": "ASTR 19",
   "language": "python",
   "name": "astr19"
  },
  "language_info": {
   "codemirror_mode": {
    "name": "ipython",
    "version": 3
   },
   "file_extension": ".py",
   "mimetype": "text/x-python",
   "name": "python",
   "nbconvert_exporter": "python",
   "pygments_lexer": "ipython3",
   "version": "3.10.12"
  }
 },
 "nbformat": 4,
 "nbformat_minor": 5
}
